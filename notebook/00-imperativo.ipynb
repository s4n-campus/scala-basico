{
 "cells": [
  {
   "cell_type": "markdown",
   "metadata": {},
   "source": [
    "# Implementación imperativa (Lenguaje C++)\n",
    "\n",
    "Vamos a mostrar la implementación del problema establecido en un lenguaje imperativo: el lennguaje de programación C++. C++ es un lenguaje multiparadigma (estructurado, orientado a objetos y funcional).\n",
    "\n",
    "Vamos a dividir la implementación en dos partes, la primera parte es la implementación del algoritmo de Euclides y la segunda es el programa que obtiene la longitud de los segmentos.\n",
    "\n",
    "## Implementación del algoritmo de Euclides en C++\n",
    "    \n",
    "El siguiente es el código de la implementación de C++ del algoritmo de euclides (MCD-en Inglés gcd), con algunas optimizaciones como por ejemplo no hacer uso de una variable intermedia."
   ]
  },
  {
   "cell_type": "code",
   "execution_count": null,
   "metadata": {},
   "outputs": [],
   "source": [
    "int gcd(int a, int b) {\n",
    "    while (a != b)\n",
    "        if (a > b)\n",
    "            a = a - b;\n",
    "        else\n",
    "            b = b - a;\n",
    "    return a;\n",
    "}"
   ]
  },
  {
   "cell_type": "markdown",
   "metadata": {
    "solution2": "hidden",
    "solution2_first": true
   },
   "source": [
    "## Plan A\n",
    "### Preguntas y ejercicios\n",
    "1. Llene la siguiente tabla simulando una prueba de escritorio de la implementación del algoritmo utilizando la siguiente tabla:\n",
    "\n",
    "|  a  |  b  |\n",
    "| :-: | :-: |\n",
    "| 11  |  8  |\n",
    "|     |     |\n",
    "|     |     |\n",
    "|     |     |\n",
    "|     |     |\n",
    "|     |     |"
   ]
  },
  {
   "cell_type": "markdown",
   "metadata": {
    "solution2": "hidden"
   },
   "source": [
    "El siguiente es resultado de evaluar `gcd(11,8)` y su resultado final es `1`.\n",
    "\n",
    "|  a  |  b  |\n",
    "| :-: | :-: |\n",
    "| 11  |  8  |\n",
    "|  3  |  8  |\n",
    "|  3  |  5  |\n",
    "|  3  |  2  |\n",
    "|  1  |  2  |\n",
    "|  1  |  1  |"
   ]
  },
  {
   "cell_type": "markdown",
   "metadata": {
    "solution2": "hidden",
    "solution2_first": true
   },
   "source": [
    "2. Llene la siguiente tabla simulando una prueba de escritorio de la implementación del algoritmo utilizando la siguiente tabla:\n",
    "\n",
    "|  a  |  b  |\n",
    "| :-: | :-: |\n",
    "| 15  |  5  |\n",
    "|     |     |\n",
    "|     |     |\n",
    "|     |     |\n",
    "|     |     |"
   ]
  },
  {
   "cell_type": "markdown",
   "metadata": {
    "solution2": "hidden"
   },
   "source": [
    "El siguiente es el resultado de evaluar `gcd(15,5)` y su resultado final es `5`.\n",
    "\n",
    "|  a  |  b  |\n",
    "| :-: | :-: |\n",
    "| 15  |  5  |\n",
    "| 10  |  5  |\n",
    "|  5  |  5  |"
   ]
  },
  {
   "cell_type": "markdown",
   "metadata": {
    "solution2": "hidden",
    "solution2_first": true
   },
   "source": [
    "3. ¿Qué resultado queda en las variables de entrada si los valores son [coprimos](https://es.wikipedia.org/wiki/N%C3%BAmeros_coprimos#:~:text=En%20matem%C3%A1ticas%2C%20los%20n%C3%BAmeros%20coprimos%20%28n%C3%BAmeros%20primos%20entre,m%C3%A1ximo%20com%C3%BAn%20divisor%20%28MCD%29%20es%20igual%20a%201.)?"
   ]
  },
  {
   "cell_type": "markdown",
   "metadata": {
    "solution2": "hidden"
   },
   "source": [
    "La definición de *coprimos* indica que los números no tiene ningún factor común, por lo tanto el valor de máximo común divisor produce siempre `1`. Como lo puede observar en el primer ejercicio: `11` y `8` son coprimos, por lo tanto su resultado es `1`."
   ]
  },
  {
   "cell_type": "markdown",
   "metadata": {},
   "source": [
    "4. Se había establecido que la precondición $0 < b < a$ para la versión original del algoritmo. Si los valores de entrada son: `a=10`, `b=14`. ¿El programa termina?"
   ]
  },
  {
   "cell_type": "markdown",
   "metadata": {},
   "source": [
    "Aunque la versión original del algoritmo tiene en cuenta dicha precondición $0 < b < a$. El algoritmo tiene en cuenta cuando la condición es $0 < a < b$. Se observa la siguiente prueba de escritorio:\n",
    "\n",
    "|  a  |  b  |\n",
    "| :-: | :-: |\n",
    "| 10  |  4  |\n",
    "|  6  |  4  |\n",
    "|  2  |  4  |\n",
    "|  2  |  2  |"
   ]
  },
  {
   "cell_type": "markdown",
   "metadata": {
    "solution2": "hidden",
    "solution2_first": true
   },
   "source": [
    "5. ¿El programa podría retornar el valor de `b`? ¿Es válido para todos para todos los casos?"
   ]
  },
  {
   "cell_type": "markdown",
   "metadata": {
    "solution2": "hidden"
   },
   "source": [
    "Si, por que el resultado final se obtiene cuando `a == b`. Entonces, se puede retorna el valor `b`."
   ]
  },
  {
   "cell_type": "markdown",
   "metadata": {},
   "source": [
    "## Plan B\n",
    "### Preguntas y ejercicios\n",
    "1. Reemplace los valores iniciales de las variables `a` y `b`.\n",
    "    a. Por los valores `a = 18` y `b = 9`.\n",
    "    b. Por los valores `a = 18` y `b = 6`."
   ]
  },
  {
   "cell_type": "code",
   "execution_count": null,
   "metadata": {
    "solution2": "hidden",
    "solution2_first": true
   },
   "outputs": [],
   "source": [
    "#include <iostream>\n",
    "\n",
    "int a = 0;\n",
    "int b = 0;\n",
    "gcd(a,b);\n",
    "std::cout << \"El maximo comun divisor entre a=\" << a\n",
    "          << \" y b=\" << b << \" es \" << gcd(a,b) << std::endl;"
   ]
  },
  {
   "cell_type": "code",
   "execution_count": 2,
   "metadata": {
    "solution2": "hidden"
   },
   "outputs": [
    {
     "name": "stdout",
     "output_type": "stream",
     "text": [
      "El maximo comun divisor entre a=18 y b=9 es 9\n"
     ]
    }
   ],
   "source": [
    "#include <iostream>\n",
    "\n",
    "int a = 18;\n",
    "int b = 9;\n",
    "gcd(a,b);\n",
    "std::cout << \"El maximo comun divisor entre a=\" << a\n",
    "          << \" y b=\" << b << \" es \" << gcd(a,b) << std::endl;"
   ]
  },
  {
   "cell_type": "code",
   "execution_count": 3,
   "metadata": {
    "solution2": "hidden"
   },
   "outputs": [
    {
     "name": "stdout",
     "output_type": "stream",
     "text": [
      "El maximo comun divisor entre a=18 y b=6 es 6\n"
     ]
    }
   ],
   "source": [
    "#include <iostream>\n",
    "\n",
    "int a = 18;\n",
    "int b = 6;\n",
    "gcd(a,b);\n",
    "std::cout << \"El maximo comun divisor entre a=\" << a\n",
    "          << \" y b=\" << b << \" es \" << gcd(a,b) << std::endl;"
   ]
  },
  {
   "cell_type": "markdown",
   "metadata": {},
   "source": [
    "2. El siguiente código `gcd2` es otra versión de `gcd`, pero tiene un error corríjalo. Recuerde que este código esta diseñado para trabajar con la precondición: $0 < b < a$."
   ]
  },
  {
   "cell_type": "code",
   "execution_count": null,
   "metadata": {
    "solution2": "hidden",
    "solution2_first": true
   },
   "outputs": [],
   "source": [
    "int gcd2(int a, int b) {\n",
    "    int c;\n",
    "    ciclo:\n",
    "    c = a - b;\n",
    "    if (c == 1) return c;\n",
    "    if (c == b) return c;\n",
    "    if (c < b) {\n",
    "        a = b;\n",
    "        b = c;\n",
    "    }\n",
    "    else a = c;\n",
    "    goto ciclo;\n",
    "}"
   ]
  },
  {
   "cell_type": "code",
   "execution_count": null,
   "metadata": {
    "solution2": "hidden"
   },
   "outputs": [],
   "source": [
    "int gcd2(int a, int b) {\n",
    "    int c;\n",
    "    ciclo:\n",
    "    c = a - b;\n",
    "    if (c == 1) return c;\n",
    "    if (c == b) return c;\n",
    "    if (c < b) {\n",
    "        a = b;\n",
    "        b = a;\n",
    "    }\n",
    "    else a = c;\n",
    "    goto ciclo;\n",
    "    return c;\n",
    "}"
   ]
  },
  {
   "cell_type": "markdown",
   "metadata": {},
   "source": [
    "3. Reescriba el siguiente código `gcd3` eliminando el goto. Tenga en cuenta que este código "
   ]
  },
  {
   "cell_type": "code",
   "execution_count": null,
   "metadata": {
    "solution2": "hidden",
    "solution2_first": true
   },
   "outputs": [],
   "source": [
    "int gcd3(int a, int b) {\n",
    "    int c;\n",
    "    ciclo:\n",
    "    c = a - b;\n",
    "    if (c == 1) return c;\n",
    "    if (c == b) return c;\n",
    "    if (c < b) {\n",
    "        a = b;\n",
    "        b = a;\n",
    "    }\n",
    "    else a = c;\n",
    "    goto ciclo;\n",
    "}"
   ]
  },
  {
   "cell_type": "code",
   "execution_count": null,
   "metadata": {
    "solution2": "hidden"
   },
   "outputs": [],
   "source": [
    "int gcd3(int a, int b) {\n",
    "  int c;\n",
    "  c = a - b;\n",
    "  while (c > 1 && c != b) {\n",
    "    if (c < b) {\n",
    "      a = b;\n",
    "      b = c;\n",
    "    }\n",
    "    else a = c;\n",
    "    c = a - b;\n",
    "  }\n",
    "  return c;\n",
    "}"
   ]
  },
  {
   "cell_type": "markdown",
   "metadata": {},
   "source": [
    "## Implementación del código principal del programa en C++\n",
    "\n",
    "La siguiente muestra de código en C++, nos muestra la implementación del cuerpo principal del programa, nos indica donde inicia `main` y cómo obtiene los valores e hace la invocación del algoritmo.\n"
   ]
  },
  {
   "cell_type": "code",
   "execution_count": null,
   "metadata": {},
   "outputs": [],
   "source": [
    "int\n",
    "main(void) {\n",
    "   std::cout << \"Enter three integer values separated by spaces: \";\n",
    "   std::cout.flush();\n",
    "   int a, b, c;\n",
    "   std::cin >> a >> b >> c;\n",
    "   std::cout << \"The minimum size to cut is: \"\n",
    "             << gcd(gcd(a, b),c)\n",
    "             << std::endl;\n",
    "   return 0;\n",
    "}"
   ]
  },
  {
   "cell_type": "code",
   "execution_count": null,
   "metadata": {},
   "outputs": [],
   "source": [
    "main()"
   ]
  },
  {
   "cell_type": "markdown",
   "metadata": {
    "solution2": "hidden",
    "solution2_first": true
   },
   "source": [
    "## Plan A. \n",
    "#### Preguntas y ejercicios\n",
    "\n",
    "1. La instrucción `int a, b, c;` es una declaración. ¿Al ser declarados, que valores iniciales tienen?\n",
    "  1. Hasta que los valores son leídos no tiene valores.\n",
    "  2. Todos son iniciados con cualquier valor diferente.\n",
    "  3. Todos son iniciados con el mismo valor diferente de cero.\n",
    "  4. Todos son iniciados con el mismo valor cero."
   ]
  },
  {
   "cell_type": "markdown",
   "metadata": {
    "solution2": "hidden"
   },
   "source": [
    "Esta respuesta tiene dos posibilidades: En las primeras versiones de los compiladores C y C++, los valores de las variables locales sino eran inicializadas podría tener cualquier valor, es decir que tuvieran lo que tuvieran en las posiciones de memorias que fueron asignados, por ellos siempre se pide que los valores que se van a utilizar deben ser inicializados. A partir de la versión del compilador C++ 11, los valores de las variables locales, si son de tipo numérico estas deben ser inicializadas en `0`."
   ]
  },
  {
   "cell_type": "markdown",
   "metadata": {
    "solution2": "hidden",
    "solution2_first": true
   },
   "source": [
    "2. Suponga que el programa anterior es modificado para leer cuatro segmentos: `a`, `b`, `c` y `d`. ¿Cómo se obtendría el valor que representa el tamaño que permita dividir los cuatro segmentos cada uno del mismo tamaño?"
   ]
  },
  {
   "cell_type": "markdown",
   "metadata": {
    "solution2": "hidden"
   },
   "source": [
    "La expresión podría ser así:\n",
    "\n",
    "```c++\n",
    "gcd(gcd(a,b),gcd(c,d))\n",
    "```\n",
    "\n",
    "Aunque no es la única forma, puesto que la funcion `gcd` es conmutativa y asociativa se podría tener otras posibilidades, entre ellas:\n",
    "\n",
    "```c++\n",
    "gcd(a,gcd(b,gdc(c,d)))\n",
    "gcd(gcd(gdc(a,b),c),d)\n",
    "```"
   ]
  },
  {
   "cell_type": "markdown",
   "metadata": {},
   "source": [
    "## Plan B.\n",
    "### Preguntas y ejercicios\n",
    "\n",
    "1. Complete el pocedimiento `ppal` que forma que lea los cuatro segmentos y encuentre el máximo común divisor entre ellos y permita dividir los segmentos en tamaños iguales."
   ]
  },
  {
   "cell_type": "code",
   "execution_count": null,
   "metadata": {
    "solution2": "hidden",
    "solution2_first": true
   },
   "outputs": [],
   "source": [
    "void ppal(void) {\n",
    "   std::cout << \"Enter four integer values separated by spaces: \";\n",
    "   std::cout.flush();\n",
    "   int a, b, c;\n",
    "   std::cin >> a >> b >> c;\n",
    "   std::cout << \"The minimum size to cut is: \"\n",
    "             << gcd(gcd(a, b),c)\n",
    "             << std::endl;\n",
    "}"
   ]
  },
  {
   "cell_type": "code",
   "execution_count": null,
   "metadata": {
    "solution2": "hidden"
   },
   "outputs": [],
   "source": [
    "void ppal(void) {\n",
    "   std::cout << \"Enter four integer values separated by spaces: \";\n",
    "   std::cout.flush();\n",
    "   int a, b, c, d;\n",
    "   std::cin >> a >> b >> c >> d;\n",
    "   std::cout << \"The minimum size to cut is: \"\n",
    "             << gcd(gcd(a, b),gcd(c,d))\n",
    "             << std::endl;\n",
    "}"
   ]
  },
  {
   "cell_type": "code",
   "execution_count": null,
   "metadata": {},
   "outputs": [],
   "source": [
    "ppal()"
   ]
  },
  {
   "cell_type": "markdown",
   "metadata": {},
   "source": [
    "2. El siguiente código `segments` es una versión para generalizar el problema de tres segmentos a $n$ segmentos donde $n > 1$. Pero tiene un error, podría correguir el error de forma que éste proceda para cualquier valor de $n$ mayor de $1$."
   ]
  },
  {
   "cell_type": "code",
   "execution_count": null,
   "metadata": {
    "solution2": "hidden",
    "solution2_first": true
   },
   "outputs": [],
   "source": [
    "void segments(void) {\n",
    "    std::cout << \"Enter first segment: \";\n",
    "    std::cout.flush();\n",
    "    int seg;\n",
    "    std::cin >> seg;\n",
    "    int m = gcd(seg,seg);\n",
    "    do {\n",
    "        std::cout << \"Enter next segment (Enter a letter to end): \";\n",
    "        std::cout.flush();\n",
    "        std::cin >> seg;\n",
    "        if (!std::cin) break;\n",
    "        m = gcd(seg,seg);\n",
    "    } while (true);\n",
    "    std::cout << \"The minimum size to cut is: \"\n",
    "              << m\n",
    "              << std::endl;\n",
    "}"
   ]
  },
  {
   "cell_type": "code",
   "execution_count": null,
   "metadata": {
    "solution2": "hidden"
   },
   "outputs": [],
   "source": [
    "void segments(void) {\n",
    "    std::cout << \"Enter first segment: \";\n",
    "    std::cout.flush();\n",
    "    int seg;\n",
    "    std::cin >> seg;\n",
    "    int m = gcd(seg,seg);\n",
    "    do {\n",
    "        std::cout << \"Enter next segment (Enter a letter to end): \";\n",
    "        std::cout.flush();\n",
    "        std::cin >> seg;\n",
    "        if (!std::cin) break;\n",
    "        m = gcd(seg,m);\n",
    "    } while (true);\n",
    "    std::cout << \"The minimum size to cut is: \"\n",
    "              << m\n",
    "              << std::endl;\n",
    "}"
   ]
  },
  {
   "cell_type": "code",
   "execution_count": null,
   "metadata": {},
   "outputs": [],
   "source": [
    "segments()"
   ]
  }
 ],
 "metadata": {
  "kernelspec": {
   "display_name": "C++11",
   "language": "C++11",
   "name": "xcpp11"
  },
  "language_info": {
   "codemirror_mode": "text/x-c++src",
   "file_extension": ".cpp",
   "mimetype": "text/x-c++src",
   "name": "c++",
   "version": "11"
  }
 },
 "nbformat": 4,
 "nbformat_minor": 4
}
