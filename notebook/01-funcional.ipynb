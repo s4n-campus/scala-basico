{
 "cells": [
  {
   "cell_type": "markdown",
   "metadata": {},
   "source": [
    "# Implementación funcional (Haskell)\n",
    "\n",
    "Haskell es un lenguaje de programación funcional puro, estáticamente tipificado, concurrente y perezoso. \n",
    "\n",
    "En este **Notebook** estará dividido en dos partes, la primera mostrará la implementación del algoritmo de Euclides y la segunda parte mostraremos la invocación del algoritmo desde la parte que se encarga de leer los valores de entrada y procesarlos.\n",
    "\n",
    "## Implementación del algoritmo de Euclides en Haskell\n",
    "    \n",
    "En los lenguajes funcionales puros como Haskell, la definición de funciones se hace a través de la declaración por partes y algunos casos haciendo uso de la recursividad. \n",
    "\n",
    "La definición del algoritmo de Euclides en el [lenguaje de programación Haskell](https://www.haskell.org/) se muestra a continuación:"
   ]
  },
  {
   "cell_type": "code",
   "execution_count": null,
   "metadata": {},
   "outputs": [],
   "source": [
    "gcd' :: Int -> Int -> Int\n",
    "gcd' a b\n",
    "  | a == b    = a\n",
    "  | a <  b    = gcd' a       (b - a)\n",
    "  | otherwise = gcd' (a - b) b"
   ]
  },
  {
   "cell_type": "markdown",
   "metadata": {},
   "source": [
    "Observe en primer lugar, que el nombre de la función `gcd’` nos muestra la manera que Haskell permite nombrar a sus funciones muy cercana como lo hacen los matemáticos: $f$, $f'$, $f''$, etc. El nombre utilizado aquí `gcd'` se hace porque la biblioteca `Prelude` (base en Haskell) ya tiene definida una función `gcd` y lo que queremos es mostrar una implementación de dicha función en Haskell, por eso la comilla extra al final del nombre, para indicar que es una versión alternativa. \n",
    "\n",
    "Pero volvamos a la definición de la función, la primera línea nos muestra la firma (*signature*) de la función, ésta indica que se reciben dos parámetros de tipo entero y retorna un valor entero, los parámetros se separan utilizando el *operador* `->`. La segunda línea, nos muestra que se reciben dos parámetros nombrados `a` y `b`, luego viene lo que se conoce como un sistema de guardas, indicado por el símbolo `|` cada guarda. El objetivo de una guarda es establecer el valor de verdad del *predicado* que se encuentra después del símbolo '|', si este es verdadero se realiza la expresión que aparece después del símbolo igual (`=`), tenga en cuenta que aquí el símbolo `=` significa definición. Si el valor del predicado no es verdadero se sigue con el siguiente predicado hasta que se encuentre uno que sea verdadero o hasta que examinen todas en cuyo caso se genera un error.\n",
    "\n",
    "El primer predicado `a = b`, nos indica que el valor el máximo común divisor ya se encuentra en la variable `a`. El siguiente predicado `a < b` indica que se debe invocar la función de máximo común divisor `gcd’` nuevamente (*invocación recursiva*) con dos parámetros el valor de `a` y la diferencia entre `b - a`. La última guarda utiliza la palabra reservada `otherwise` para indicar que siempre es verdad (por eso se ubica siempre de última, sino solaparía las demás guardas) y se invoca la función `gcd’` (*invocación recursiva*) pasando como primer parámetro la diferencia entre `a - b` y el segundo parámetro `b`."
   ]
  },
  {
   "cell_type": "markdown",
   "metadata": {
    "solution2": "hidden",
    "solution2_first": true
   },
   "source": [
    "## Plan A\n",
    "\n",
    "### Preguntas y ejercicios\n",
    "\n",
    "1. En la declaración de una función en Haskell el objetivo de la firma (*signatures*) es la definir un tipo de dato (las funciones son tipos de datos) a través del operador `->`. Como todo operador en lo lenguajes de programación tiene precedencia y asociatividad, como ocurre con el operador `+` que es asociativo por la izquierda y en muchos lenguajes tiene menos precedencia que el operador `*` (multiplicación). En el caso particular del operador  `->` este tiene una asociatividad por la derecha, lo que implica el orden de evaluación, es como si se utilizara paréntesis. De los tres esquemas de paréntesis, cuál aplica a la firma de la función de `gcd’`\n",
    "  1. `((Int -> Int) -> Int)`\n",
    "  2. `(Int -> Int -> Int)`\n",
    "  3. `(Int -> (Int -> Int))`\n",
    "  "
   ]
  },
  {
   "cell_type": "markdown",
   "metadata": {
    "solution2": "hidden"
   },
   "source": [
    "En este caso la respuesta es: C. `(Int -> (Int -> Int))`. Porque el operador es asociativo por la derecha. Entonces, primero asocia el operador más a la derecha y luego el siguiente más remanente más a la derecha."
   ]
  },
  {
   "cell_type": "markdown",
   "metadata": {},
   "source": [
    "2. La sintaxis del lenguaje de programación Haskell está lleno de características novedosas para muchos programadores, ya sean *Seniors* o *Juniors*, una de ella es la invocación de funciones, que está basada  funciones prefijas, es decir que la invocación de función siempre lleva el nombre de la función primero seguida de los argumentos **Todos ellos separados por espacios**, cómo puedes ver en una de las expresiones de las guardas: `gcd' a (b-a)`. Algo que debe causar curiosidad y algo de escosor, que pasa por los operadores aritméticos tradicionales, estos no debería parecer también así, por ejemplo: `3 + 4` debería haber sido escrito `+ 3 4`. Y la verdad es que esto ocurre así en una parte de la compilacion, pero de esta forma: `(+) 3 4`. Los paréntesis son adicionados para indicar que se quiere trabajar con la función suma y no el operador binario. Esto ocurre por que los operadores binarios puede ser trabajados de esta forma al indicar que ellos son operadores `infix`. Si has observado bien `gcd'` también puede comportarse como un operador binario. Reescribe la siguiente invocación de `gcd'` de forma que sea utilizada como un operador infijo. **Nota** Cualquier función binaria, por ejemplo `bin` puedes convertirla en infija `` `bin` ``. \n",
    "  "
   ]
  },
  {
   "cell_type": "code",
   "execution_count": null,
   "metadata": {
    "solution2": "hidden",
    "solution2_first": true
   },
   "outputs": [],
   "source": [
    "gcd' 12 4 == 4\n",
    "gcd' 16 3 == 1\n",
    "gcd' 20 4 == 4"
   ]
  },
  {
   "cell_type": "code",
   "execution_count": null,
   "metadata": {
    "solution2": "hidden"
   },
   "outputs": [],
   "source": [
    "12 `gcd'` 4 == 4\n",
    "16 `gcd'` 3 == 1\n",
    "20 `gcd'` 4 == 4"
   ]
  },
  {
   "cell_type": "markdown",
   "metadata": {
    "solution2": "hidden",
    "solution2_first": true
   },
   "source": [
    "3. Las declaraciones de funciones en Haskell pueden ser realizadas por partes como se observa en la definición anterior. La idea es que cada parte debe excluyentes entre ellas, por que la primera debe ser verdad de arriba hacia abajo, hace que se reemplace la regla por la parte derecha de la parte. ¿Qué significa la opción otherwise? \n",
    "  1. `a >= b`\n",
    "  2. `True`\n",
    "  3. `False`\n",
    "  4. Indefinido"
   ]
  },
  {
   "cell_type": "markdown",
   "metadata": {
    "solution2": "hidden"
   },
   "source": [
    "La instrucción `otherwise` es un predicado que siempre significa `True`."
   ]
  },
  {
   "cell_type": "markdown",
   "metadata": {},
   "source": [
    "## Plan B\n",
    "\n",
    "### Preguntas y ejercicios\n",
    "\n",
    "1. Ejecute la celda anterior para cargar la definición de la función y luego ejecute el siguiente codigo,  reemplazando las variables `a` con 18 y `b` con `9`, luego `a` con `18` y `b` con `6`."
   ]
  },
  {
   "cell_type": "code",
   "execution_count": null,
   "metadata": {
    "solution2": "hidden",
    "solution2_first": true
   },
   "outputs": [],
   "source": [
    "let a = 0; b = 0 in gcd' a b"
   ]
  },
  {
   "cell_type": "code",
   "execution_count": null,
   "metadata": {
    "solution2": "hidden"
   },
   "outputs": [],
   "source": [
    "let a = 18; b = 9 in gcd' a b\n",
    "\n",
    "let a = 18; b = 6 in gcd' a b"
   ]
  },
  {
   "cell_type": "markdown",
   "metadata": {},
   "source": [
    "2. Observe bien el código anterior, las operaciones = que tenemos en la expresión let no son asignaciones como pudieran ocurrir en un lenguaje de programación imperativo, sino que cada operación igual es un enlace (en Inglés \n",
    "Binding), esto significa que el valor que a es ligado a ese valor y no puede ser cambiando internanmente. Antes de ejecutar responda estas preguntas y basado en su conocimiento de otros lenguajes de programación responda lo sigiente:\n",
    "  1. El código siguiente se ejecuta correctamente.\n",
    "  2. El código siguiente no se ejecuta correctamente."
   ]
  },
  {
   "cell_type": "code",
   "execution_count": null,
   "metadata": {
    "solution2": "hidden",
    "solution2_first": true
   },
   "outputs": [],
   "source": [
    "let a = 10\n",
    "    b = 20\n",
    "    a = b\n",
    " in a + b\n"
   ]
  },
  {
   "cell_type": "markdown",
   "metadata": {
    "solution2": "hidden"
   },
   "source": [
    "El código no se ejecuta correctamente. Esto se debe a un aspecto que los lenguajes de programación definen con respecto a la declaración y uso de las variables llamado *reglas de ámbito*. Las reglas de ámbito establece el alcance y visibilidad de las variables dentro del cuerpo de un programa, dentro de un bloque (iniciado por el constructor `let`) en el lenguaje de programación Haskell no se puede re-ligar variables y esto lo que ocurren dentro del bloque anterior."
   ]
  },
  {
   "cell_type": "markdown",
   "metadata": {},
   "source": [
    "3. Observa el siguiente código. Y antes de ejecutarlo responde las siguientes preguntas:\n",
    "  1. El código siguiente se ejecuta correctamente.\n",
    "  2. El código siguiente no se ejecuta correctamente."
   ]
  },
  {
   "cell_type": "code",
   "execution_count": null,
   "metadata": {
    "solution2": "hidden",
    "solution2_first": true
   },
   "outputs": [],
   "source": [
    "let a = 10\n",
    " in let b = 20\n",
    "    in let a = b\n",
    "       in a + b"
   ]
  },
  {
   "cell_type": "markdown",
   "metadata": {
    "solution2": "hidden"
   },
   "source": [
    "El código se ejecuta correctamente. De nuevo se aplica las *reglas de ámbito*. Cada `let` anidado permite la ligas (relaciona con un valor) las variables anteriores en el nuevo contexto, así que estas variables no tienen relación alguna con las variables más externas y sus nombres pueden ser reutilizados, si una variable extenrna no se utiliza (o re-liga) en ninguno de los `let` más internos, esta sigue siendo visible, mientras que las variables re-ligas más externas se vuelven invisibles."
   ]
  },
  {
   "cell_type": "markdown",
   "metadata": {},
   "source": [
    "## Implementación del código principal del programa en Haskell\n",
    "\n",
    "El siguiente fragmento de código muestra la implementación del cuerpo principal del programa en Haskell. Ejecutelo, y observe que aparentemente no ha pasado nada."
   ]
  },
  {
   "cell_type": "code",
   "execution_count": 12,
   "metadata": {},
   "outputs": [],
   "source": [
    "-- module Main where\n",
    "import System.IO(hGetLine,openFile,IOMode(..))\n",
    "\n",
    "gcd' :: Int -> Int -> Int\n",
    "gcd' a b\n",
    "  | a == b    = a\n",
    "  | a <  b    = gcd' a       (b - a)\n",
    "  | otherwise = gcd' (a - b) b\n",
    "\n",
    "readInts :: FilePath -> IO (Int,Int,Int)\n",
    "readInts fileName = do\n",
    "   h   <- openFile fileName ReadMode\n",
    "   str <- hGetLine h \n",
    "   let [s1,s2,s3] = words str\n",
    "   return (read s1, read s2, read s3)\n",
    "   \n",
    "main :: IO ()\n",
    "main = do\n",
    "   (a,b,c) <- readInts \"data/data01.in\"\n",
    "   putStrLn (\"The minimum size to cut is: \" ++ show ( gcd' c (gcd' a b)))"
   ]
  },
  {
   "cell_type": "markdown",
   "metadata": {},
   "source": [
    "Después de haber ejecutando el anterior código, ejecute el siguiente:"
   ]
  },
  {
   "cell_type": "code",
   "execution_count": null,
   "metadata": {},
   "outputs": [],
   "source": [
    "main "
   ]
  },
  {
   "cell_type": "markdown",
   "metadata": {},
   "source": [
    "En Haskell las funciones que interactúan con el mundo exterior tiene como constructor `IO` y como valor de retorno que se indica después, en este caso `()` que indica que el valor es un valor de tipo `void` (semejante al `void` en Java, C ó C++). Se han definido dos funciones que interactúan con el mundo exterior, la primera `readInts` se encarga de obtener los tres valores de las longitudes de los segmentos a ser procesados, esta función interactúa con el mundo exterior (leyendo de un fichero)  y retorna una tupla con los tres valores leídos.\n",
    "\n",
    "Aunque el código anterior sea semejante a un código imperativo que encontramos en muchos de nuestro lenguajes de programación conocidos (como C, C++, Java, C#, etc), en el cual las instrucciones se ejecutan en secuencia, dentro de Haskell es realmente una simulación de la interacción con el mundo exterior, el sistema de tipos de Haskell garantiza que la función siempre se evalúa en el tiempo obtiene los mismos resultados siempre (esto nos puede parecer extraño al principio, pero es la realidad). \n",
    "\n",
    "La segunda función llamada `main` es la encargada de dar inicio al programa, es semejante a la ejecución de una función también llamada `main` en los programas escritos en el lenguaje de programación C++, pero es importante notar, que debido al compromiso de no modificar el estado del programa en Haskell, este programa es diferente en algunas partes, como por ejemplo en la parte de la invocación de la función `gcd’` que si observa bien los parámetros son tratados individualmente y estos parámetros no puede ser modificados, puesto que todos los valores son inmutables. \n",
    "\n",
    "Observe en el siguiente segmento de código:"
   ]
  },
  {
   "cell_type": "code",
   "execution_count": null,
   "metadata": {},
   "outputs": [],
   "source": [
    "let a = 12\n",
    "    b = 18\n",
    "    c = 9\n",
    " in gcd' c (gcd' a b)"
   ]
  },
  {
   "cell_type": "markdown",
   "metadata": {},
   "source": [
    "La primera función trabajo con dos parámetros, `c` y el resultado de la invocación de la función interna `gcd’` que a su vez recibe dos parámetros `a` y `b`. "
   ]
  },
  {
   "cell_type": "markdown",
   "metadata": {
    "solution2": "hidden",
    "solution2_first": true
   },
   "source": [
    "## Plan A\n",
    "\n",
    "### Preguntas y ejercicios\n",
    "\n",
    "1. Este programa no tiene declaraciones como sucede con el programa en C++. Esto se debe porque un lenguaje como Haskell utiliza un mecanismo llamado *inferencia de tipos* y la declaración puede determinar el tipo de la función a partir de los valores manipulados por la misma. La función `read` es una función genérica con esta firma: `read :: (Read a) => String -> a`, que lee de esta forma: la variable de tipo `a` es un tipo de la clase (No hay clases en Haskell, aquí una clase significa una agrupación de elementos con funciones comunes) que se puede leer, que dado una cadena de caracteres lo convierte a cualquier tipo. El problema es: ¿cómo sabemos a que tipo que convierte? Observe la firma de la función `readInts :: FilePath -> (Int,Int,Int)`. Esta no indica que de la ruta a un fichero `FilePath`(muchos lo llama miga de pan) se obtiene tres enteros (`Int`); la función `read` sustituye esa `a` por `Int` y se obtiene un versión específica `read :: (Read Int) => String -> Int`. Conociendo como cambiariamos la firma de la función para leer un entero al inicio y dos flotantes (solamente la firma tiene que ser cambiada, no hay que hacer nada más por la inferencia de tipos). ¿Cuál de las siguientes firmas sería la válida para el cambio propuesto?\n",
    "  1. `readInts :: FilePath -> (Int,Int,Float)`\n",
    "  2. `readInts :: FilePath -> (Int,Int,Int)`\n",
    "  3. `readInts :: FilePath -> (Float,Float,Float)`\n",
    "  4. `readInts :: FilePath -> (Float,Int,Float)`\n",
    "  5. `readInts :: FilePath -> (Int,Float,Float)`   "
   ]
  },
  {
   "cell_type": "markdown",
   "metadata": {
    "solution2": "hidden"
   },
   "source": [
    "La respuesta correcta es la 5. Esto debido a la solicitud del problema un entero inicial y dos subsecuentes valores de tipo Flotante."
   ]
  },
  {
   "cell_type": "markdown",
   "metadata": {},
   "source": [
    "Ahora suponga que la función `readInts` fue cambiada para leer cuatro segmentos de tipo `Int`. La firma queda así: `readInts2 :: FilePath -> (Int,Int,Int,Int)`. Y el cuerpo de código quedaría así: "
   ]
  },
  {
   "cell_type": "code",
   "execution_count": 16,
   "metadata": {},
   "outputs": [],
   "source": [
    "readInts2 :: FilePath -> IO (Int, Int, Int, Int)\n",
    "readInts2 fileName = undefined -- Esto se hará en un ejercicio siguiente en plan B, supongan que funciona.\n",
    "\n",
    "(a,b,c,d) <- readInts2 \"data/data02.in\""
   ]
  },
  {
   "cell_type": "markdown",
   "metadata": {
    "solution2": "hidden",
    "solution2_first": true
   },
   "source": [
    "2. Ahora sabiendo que ya tiene leído los cuatro valores enteros en las correspondientes variables: `a`, `b`, `c` y `d`. Cuál de las siguientes invocaciones te permiten obtener el valor del corte común a los 4 segmentos.\n",
    "  1. `gcd' (gcd' a b) (gcd' c d)`\n",
    "  2. `gcd' a (gcd 'b (gcd' c d))`\n",
    "  3. `gcd' (gcd' (gcd' a b) c) d`\n",
    "  4. `gcd' (gcd' a (gcd ' b c)) d`"
   ]
  },
  {
   "cell_type": "markdown",
   "metadata": {
    "solution2": "hidden"
   },
   "source": [
    "Todos los anteriores. En primer lugar, la operación es conmutativa, y también asociativa por lo tanto todas las operaciones son anteriores porque son diferentes formas de asociatividad y conmutatividad. "
   ]
  },
  {
   "cell_type": "markdown",
   "metadata": {},
   "source": [
    "## Plan B\n",
    "\n",
    "### Preguntas y ejercicios\n",
    "\n",
    "1. El siguiente código ha sido modificado para leer cuatro segmentos de un fichero llamado `\"data/data02.in\"`, pero falta modificar el programa principal `main` para que utilice los cuatro segmentos. Reescriba el siguiente código de forma que pueda utilizar los 4 segmentos y computar el valor de corte común en todos ellos."
   ]
  },
  {
   "cell_type": "code",
   "execution_count": null,
   "metadata": {
    "solution2": "hidden",
    "solution2_first": true
   },
   "outputs": [],
   "source": [
    "-- module Main where\n",
    "import System.IO(hGetLine,openFile,IOMode(..))\n",
    "\n",
    "gcd' :: Int -> Int -> Int\n",
    "gcd' a b\n",
    "  | a == b    = a\n",
    "  | a <  b    = gcd' a       (b - a)\n",
    "  | otherwise = gcd' (a - b) b\n",
    "\n",
    "readInts :: FilePath -> IO (Int,Int,Int,Int)\n",
    "readInts fileName = do\n",
    "   h   <- openFile fileName ReadMode\n",
    "   str <- hGetLine h \n",
    "   let [s1,s2,s3,s4] = words str\n",
    "   return (read s1, read s2, read s3, read s4)\n",
    "   \n",
    "main :: IO ()\n",
    "main = do\n",
    "   (a,b,c,d) <- readInts \"data/data02.in\"\n",
    "   putStrLn (\"The minimum size to cut is: \" ++ show ( gcd' c (gcd' a b)))"
   ]
  },
  {
   "cell_type": "code",
   "execution_count": null,
   "metadata": {
    "solution2": "hidden"
   },
   "outputs": [],
   "source": [
    "-- module Main where\n",
    "import System.IO(hGetLine,openFile,IOMode(..))\n",
    "\n",
    "gcd' :: Int -> Int -> Int\n",
    "gcd' a b\n",
    "  | a == b    = a\n",
    "  | a <  b    = gcd' a       (b - a)\n",
    "  | otherwise = gcd' (a - b) b\n",
    "\n",
    "readInts :: FilePath -> IO (Int,Int,Int,Int)\n",
    "readInts fileName = do\n",
    "   h   <- openFile fileName ReadMode\n",
    "   str <- hGetLine h \n",
    "   let [s1,s2,s3,s4] = words str\n",
    "   return (read s1, read s2, read s3, read s4)\n",
    "   \n",
    "main :: IO ()\n",
    "main = do\n",
    "   (a,b,c,d) <- readInts \"data/data02.in\"\n",
    "   putStrLn (\"The minimum size to cut is: \" ++ show (gcd' d (gcd' c (gcd' a b)))"
   ]
  },
  {
   "cell_type": "markdown",
   "metadata": {},
   "source": [
    "2. El siguiente código es una versión generalizada del problema de tres segmentos a $n$ segmentos donde $n > 1$. Pero esta versión contiene un error, corrígalo de forma que sea capaz de resolver el problema del máximo común divisor para $n > 1$.\n",
    "\n",
    "**Nota**: La solución es reemplazar una línea. Observe bien que la función `main` a `process` y este `cio`. Haskell no puede tener ciclos, por lo que debe utilizar la recursividad para inovocar el siguiente valor. Si observa es el trabajo de `cio`, pero esto no esta calculado el valor "
   ]
  },
  {
   "cell_type": "code",
   "execution_count": null,
   "metadata": {},
   "outputs": [],
   "source": [
    "module Main where\n",
    "\n",
    "import System.IO(hPutStrLn,stdout,stdin,stderr,\n",
    "                 hFlush,hGetLine,\n",
    "                 hPutStr,openFile,IOMode(..),FilePath,Handle)\n",
    "import System.IO.Error(IOError(..),catchIOError)\n",
    "import System.Exit(exitSuccess,exitFailure)\n",
    "import System.Environment(getArgs)\n",
    "\n",
    "gcd' :: Int -> Int -> Int\n",
    "gcd' a b\n",
    "  | a ==  b   = a\n",
    "  | a <   b   = gcd' a       (b - a)\n",
    "  | otherwise = gcd' (a - b) b\n",
    "\n",
    "readInt :: Handle -> IO Int\n",
    "readInt h = do\n",
    " str <- hGetLine h\n",
    " return (read str)\n",
    "\n",
    "readFirst :: Handle -> IO Int\n",
    "readFirst h = do\n",
    "  a <- readInt h\n",
    "  return a\n",
    "\n",
    "cio :: Handle -> Int -> IO ()\n",
    "cio h g = catchIOError\n",
    "  (readNxtSeg h g)\n",
    "  (\\e -> do {hPutStrLn stdout (\"gcd is: \" ++ (show g)); exitSuccess})\n",
    "\n",
    "readNxtSeg :: Handle -> Int -> IO ()\n",
    "readNxtSeg h g = do\n",
    "  a <- readInt h\n",
    "  cio h a\n",
    "\n",
    "process :: FilePath -> IO ()\n",
    "process fp = do\n",
    "  h <- openFile fp ReadMode\n",
    "  g <- (catchIOError (readFirst h)\n",
    "        (\\e -> do {exitSuccess; return 0}))\n",
    "  cio h g\n",
    "\n",
    "main :: IO ()\n",
    "main = do\n",
    "  let fileName = \"data/data03.in\"\n",
    "  catchIOError (process fileName)\n",
    "               (\\e -> do {hPutStrLn stderr (\"cannot open file: \" ++ fileName); exitFailure})"
   ]
  },
  {
   "cell_type": "markdown",
   "metadata": {},
   "source": [
    "Para ejecutar simplemente ejecute la siguiente celda. Puede cambiar el fichero con los siguientes nombres de ficheros: `\"data/data03.in\"` (esta invocación retorna $12$), `\"data/data04.in\"` (esta invocación retorna $5$)."
   ]
  },
  {
   "cell_type": "code",
   "execution_count": null,
   "metadata": {},
   "outputs": [],
   "source": [
    "main"
   ]
  },
  {
   "cell_type": "code",
   "execution_count": 21,
   "metadata": {},
   "outputs": [
    {
     "data": {
      "text/html": [
       "<style>/* Styles used for the Hoogle display in the pager */\n",
       ".hoogle-doc {\n",
       "display: block;\n",
       "padding-bottom: 1.3em;\n",
       "padding-left: 0.4em;\n",
       "}\n",
       ".hoogle-code {\n",
       "display: block;\n",
       "font-family: monospace;\n",
       "white-space: pre;\n",
       "}\n",
       ".hoogle-text {\n",
       "display: block;\n",
       "}\n",
       ".hoogle-name {\n",
       "color: green;\n",
       "font-weight: bold;\n",
       "}\n",
       ".hoogle-head {\n",
       "font-weight: bold;\n",
       "}\n",
       ".hoogle-sub {\n",
       "display: block;\n",
       "margin-left: 0.4em;\n",
       "}\n",
       ".hoogle-package {\n",
       "font-weight: bold;\n",
       "font-style: italic;\n",
       "}\n",
       ".hoogle-module {\n",
       "font-weight: bold;\n",
       "}\n",
       ".hoogle-class {\n",
       "font-weight: bold;\n",
       "}\n",
       ".get-type {\n",
       "color: green;\n",
       "font-weight: bold;\n",
       "font-family: monospace;\n",
       "display: block;\n",
       "white-space: pre-wrap;\n",
       "}\n",
       ".show-type {\n",
       "color: green;\n",
       "font-weight: bold;\n",
       "font-family: monospace;\n",
       "margin-left: 1em;\n",
       "}\n",
       ".mono {\n",
       "font-family: monospace;\n",
       "display: block;\n",
       "}\n",
       ".err-msg {\n",
       "color: red;\n",
       "font-style: italic;\n",
       "font-family: monospace;\n",
       "white-space: pre;\n",
       "display: block;\n",
       "}\n",
       "#unshowable {\n",
       "color: red;\n",
       "font-weight: bold;\n",
       "}\n",
       ".err-msg.in.collapse {\n",
       "padding-top: 0.7em;\n",
       "}\n",
       ".highlight-code {\n",
       "white-space: pre;\n",
       "font-family: monospace;\n",
       "}\n",
       ".suggestion-warning { \n",
       "font-weight: bold;\n",
       "color: rgb(200, 130, 0);\n",
       "}\n",
       ".suggestion-error { \n",
       "font-weight: bold;\n",
       "color: red;\n",
       "}\n",
       ".suggestion-name {\n",
       "font-weight: bold;\n",
       "}\n",
       "</style><div class=\"suggestion-name\" style=\"clear:both;\">Redundant do</div><div class=\"suggestion-row\" style=\"float: left;\"><div class=\"suggestion-warning\">Found:</div><div class=\"highlight-code\" id=\"haskell\">do readInt h</div></div><div class=\"suggestion-row\" style=\"float: left;\"><div class=\"suggestion-warning\">Why Not:</div><div class=\"highlight-code\" id=\"haskell\">readInt h</div></div><div class=\"suggestion-name\" style=\"clear:both;\">Use putStrLn</div><div class=\"suggestion-row\" style=\"float: left;\"><div class=\"suggestion-warning\">Found:</div><div class=\"highlight-code\" id=\"haskell\">hPutStrLn stdout</div></div><div class=\"suggestion-row\" style=\"float: left;\"><div class=\"suggestion-warning\">Why Not:</div><div class=\"highlight-code\" id=\"haskell\">putStrLn</div></div>"
      ],
      "text/plain": [
       "Line 22: Redundant do\n",
       "Found:\n",
       "do readInt h\n",
       "Why not:\n",
       "readInt hLine 27: Use putStrLn\n",
       "Found:\n",
       "hPutStrLn stdout\n",
       "Why not:\n",
       "putStrLn"
      ]
     },
     "metadata": {},
     "output_type": "display_data"
    }
   ],
   "source": [
    "module Main where\n",
    "\n",
    "import System.IO(hPutStrLn,stdout,stdin,stderr,\n",
    "                 hFlush,hGetLine,\n",
    "                 hPutStr,openFile,IOMode(..),FilePath,Handle)\n",
    "import System.IO.Error(IOError(..),catchIOError)\n",
    "import System.Exit(exitSuccess,exitFailure)\n",
    "import System.Environment(getArgs)\n",
    "\n",
    "gcd' :: Int -> Int -> Int\n",
    "gcd' a b\n",
    "  | a ==  b   = a\n",
    "  | a <   b   = gcd' a       (b - a)\n",
    "  | otherwise = gcd' (a - b) b\n",
    "\n",
    "readInt :: Handle -> IO Int\n",
    "readInt h = do\n",
    " str <- hGetLine h\n",
    " return (read str)\n",
    "\n",
    "readFirst :: Handle -> IO Int\n",
    "readFirst h = do readInt h \n",
    "\n",
    "cio :: Handle -> Int -> IO ()\n",
    "cio h g = catchIOError\n",
    "  (readNxtSeg h g)\n",
    "  (\\e -> do {hPutStrLn stdout (\"gcd is: \" ++ show g); exitSuccess})\n",
    "\n",
    "readNxtSeg :: Handle -> Int -> IO ()\n",
    "readNxtSeg h g = do\n",
    "  a <- readInt h\n",
    "  cio h (gcd' a g)\n",
    "\n",
    "process :: FilePath -> IO ()\n",
    "process fp = do\n",
    "  h <- openFile fp ReadMode\n",
    "  g <- catchIOError (readFirst h)\n",
    "        (\\e -> do {exitSuccess; return 0})\n",
    "  cio h g\n",
    "\n",
    "main :: IO ()\n",
    "main = do\n",
    "  let fileName = \"data/data03.in\"\n",
    "  catchIOError (process fileName)\n",
    "               (\\e -> do {hPutStrLn stderr (\"cannot open file: \" ++ fileName); exitFailure})"
   ]
  },
  {
   "cell_type": "code",
   "execution_count": null,
   "metadata": {},
   "outputs": [],
   "source": [
    "main"
   ]
  }
 ],
 "metadata": {
  "kernelspec": {
   "display_name": "Haskell",
   "language": "haskell",
   "name": "haskell"
  },
  "language_info": {
   "codemirror_mode": "ihaskell",
   "file_extension": ".hs",
   "mimetype": "text/x-haskell",
   "name": "haskell",
   "pygments_lexer": "Haskell",
   "version": "8.6.5"
  }
 },
 "nbformat": 4,
 "nbformat_minor": 4
}
